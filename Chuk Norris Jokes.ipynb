{
 "cells": [
  {
   "cell_type": "markdown",
   "metadata": {},
   "source": [
    "#  Jokes Scrappper "
   ]
  },
  {
   "cell_type": "code",
   "execution_count": 1,
   "metadata": {},
   "outputs": [
    {
     "name": "stdout",
     "output_type": "stream",
     "text": [
      "Enter the number of jokes you want to Scrape5\n",
      "Enter the joke Number3\n",
      "Chuck Norris doesn't read books. He stares them down until he gets the information he wants.\n"
     ]
    }
   ],
   "source": [
    "import requests\n",
    "import json\n",
    "\n",
    "jokes_dict = {}\n",
    "\n",
    "n = int(input('Enter the number of jokes you want to Scrape'))\n",
    "\n",
    "#scrapping all the jokes and adding to the dictionary with their indexes \n",
    "for i in range(1, n):\n",
    "    # url can be any \n",
    "    jokes_url = f\"http://api.icndb.com/jokes/{i}\"\n",
    "    if json.loads(requests.get(jokes_url).content)['type'] == 'success':\n",
    "        jokes_dict[i] = (json.loads(requests.get(jokes_url).content)['value']['joke'])\n",
    "        \n",
    "joke_nu = int(input(\"Enter the joke Number\"))\n",
    "\n",
    "print(jokes_dict[joke_nu])"
   ]
  },
  {
   "cell_type": "code",
   "execution_count": null,
   "metadata": {},
   "outputs": [],
   "source": []
  }
 ],
 "metadata": {
  "kernelspec": {
   "display_name": "Python 3",
   "language": "python",
   "name": "python3"
  },
  "language_info": {
   "codemirror_mode": {
    "name": "ipython",
    "version": 3
   },
   "file_extension": ".py",
   "mimetype": "text/x-python",
   "name": "python",
   "nbconvert_exporter": "python",
   "pygments_lexer": "ipython3",
   "version": "3.8.3"
  }
 },
 "nbformat": 4,
 "nbformat_minor": 4
}
